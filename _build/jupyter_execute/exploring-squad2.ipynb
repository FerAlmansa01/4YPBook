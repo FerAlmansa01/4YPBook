{
 "cells": [
  {
   "cell_type": "markdown",
   "metadata": {},
   "source": [
    "# Exploring SQuAD2.0"
   ]
  },
  {
   "cell_type": "markdown",
   "metadata": {},
   "source": [
    "### Library Imports"
   ]
  },
  {
   "cell_type": "code",
   "execution_count": 1,
   "metadata": {},
   "outputs": [],
   "source": [
    "import numpy as np\n",
    "import pandas as pd\n",
    "from pandas import option_context\n",
    "from termcolor import colored\n",
    "import string"
   ]
  },
  {
   "cell_type": "markdown",
   "metadata": {},
   "source": [
    "The dataset was introduced by {cite:p}`SQuAD2.0`, the NLP group at Stanford."
   ]
  },
  {
   "cell_type": "markdown",
   "metadata": {},
   "source": [
    "### Loading in the dataset\n",
    "Training Set Dataset download: [https://rajpurkar.github.io/SQuAD-explorer/dataset/train-v2.0.json](https://rajpurkar.github.io/SQuAD-explorer/dataset/train-v2.0.json)"
   ]
  },
  {
   "cell_type": "code",
   "execution_count": 2,
   "metadata": {},
   "outputs": [
    {
     "data": {
      "text/html": [
       "<div>\n",
       "<style scoped>\n",
       "    .dataframe tbody tr th:only-of-type {\n",
       "        vertical-align: middle;\n",
       "    }\n",
       "\n",
       "    .dataframe tbody tr th {\n",
       "        vertical-align: top;\n",
       "    }\n",
       "\n",
       "    .dataframe thead th {\n",
       "        text-align: right;\n",
       "    }\n",
       "</style>\n",
       "<table border=\"1\" class=\"dataframe\">\n",
       "  <thead>\n",
       "    <tr style=\"text-align: right;\">\n",
       "      <th></th>\n",
       "      <th>version</th>\n",
       "      <th>data</th>\n",
       "    </tr>\n",
       "  </thead>\n",
       "  <tbody>\n",
       "    <tr>\n",
       "      <th>0</th>\n",
       "      <td>v2.0</td>\n",
       "      <td>{'title': 'Beyoncé', 'paragraphs': [{'qas': [{'question': 'When did Beyonce start becoming popular?', 'id': '56be85543aea...</td>\n",
       "    </tr>\n",
       "    <tr>\n",
       "      <th>1</th>\n",
       "      <td>v2.0</td>\n",
       "      <td>{'title': 'Frédéric_Chopin', 'paragraphs': [{'qas': [{'question': \"What was Frédéric's nationalities?\", 'id': '56cbd2356d...</td>\n",
       "    </tr>\n",
       "    <tr>\n",
       "      <th>2</th>\n",
       "      <td>v2.0</td>\n",
       "      <td>{'title': 'Sino-Tibetan_relations_during_the_Ming_dynasty', 'paragraphs': [{'qas': [{'question': 'Who were Wang Jiawei an...</td>\n",
       "    </tr>\n",
       "    <tr>\n",
       "      <th>3</th>\n",
       "      <td>v2.0</td>\n",
       "      <td>{'title': 'IPod', 'paragraphs': [{'qas': [{'question': 'Which company produces the iPod?', 'id': '56cc55856d243a140015ef0...</td>\n",
       "    </tr>\n",
       "    <tr>\n",
       "      <th>4</th>\n",
       "      <td>v2.0</td>\n",
       "      <td>{'title': 'The_Legend_of_Zelda:_Twilight_Princess', 'paragraphs': [{'qas': [{'question': 'What category of game is Legend...</td>\n",
       "    </tr>\n",
       "  </tbody>\n",
       "</table>\n",
       "</div>"
      ],
      "text/plain": [
       "  version  \\\n",
       "0    v2.0   \n",
       "1    v2.0   \n",
       "2    v2.0   \n",
       "3    v2.0   \n",
       "4    v2.0   \n",
       "\n",
       "                                                                                                                           data  \n",
       "0  {'title': 'Beyoncé', 'paragraphs': [{'qas': [{'question': 'When did Beyonce start becoming popular?', 'id': '56be85543aea...  \n",
       "1  {'title': 'Frédéric_Chopin', 'paragraphs': [{'qas': [{'question': \"What was Frédéric's nationalities?\", 'id': '56cbd2356d...  \n",
       "2  {'title': 'Sino-Tibetan_relations_during_the_Ming_dynasty', 'paragraphs': [{'qas': [{'question': 'Who were Wang Jiawei an...  \n",
       "3  {'title': 'IPod', 'paragraphs': [{'qas': [{'question': 'Which company produces the iPod?', 'id': '56cc55856d243a140015ef0...  \n",
       "4  {'title': 'The_Legend_of_Zelda:_Twilight_Princess', 'paragraphs': [{'qas': [{'question': 'What category of game is Legend...  "
      ]
     },
     "metadata": {},
     "output_type": "display_data"
    }
   ],
   "source": [
    "# Path to local file\n",
    "df = pd.read_json('../../squad2dataset/train-v2.0.json')\n",
    "\n",
    "with option_context('display.max_colwidth', 125):\n",
    "    display(df.head())"
   ]
  },
  {
   "cell_type": "code",
   "execution_count": 3,
   "metadata": {},
   "outputs": [
    {
     "name": "stdout",
     "output_type": "stream",
     "text": [
      "['Genocide' 'Protestantism' 'Baptists' 'East_India_Company' 'Infrared']\n"
     ]
    }
   ],
   "source": [
    "topic_titles = []\n",
    "\n",
    "for topic in df[\"data\"]:\n",
    "    topic_titles.append(topic[\"title\"])\n",
    "\n",
    "print(np.random.choice(topic_titles, size=5))"
   ]
  },
  {
   "cell_type": "code",
   "execution_count": 4,
   "metadata": {},
   "outputs": [
    {
     "name": "stdout",
     "output_type": "stream",
     "text": [
      "Total number of Contexts: 19035\n"
     ]
    }
   ],
   "source": [
    "# Create a list of all the contexts in the dataset\n",
    "\n",
    "context_list = []\n",
    "context_count = 0\n",
    "\n",
    "for topic in range(len(df)):\n",
    "    topic_data = df.iloc[topic][\"data\"]\n",
    "    for context_paragraph in range(len(topic_data[\"paragraphs\"])):\n",
    "        context_count += 1\n",
    "        context_list.append(topic_data[\"paragraphs\"][context_paragraph][\"context\"])\n",
    "#         print(df.iloc[topic][\"data\"][\"paragraphs\"])\n",
    "\n",
    "print(\"Total number of Contexts:\", context_count)"
   ]
  },
  {
   "cell_type": "code",
   "execution_count": 5,
   "metadata": {},
   "outputs": [
    {
     "name": "stdout",
     "output_type": "stream",
     "text": [
      "Mean tokenized context length:  151.62348305752562\n"
     ]
    }
   ],
   "source": [
    "from transformers import BertTokenizer\n",
    "\n",
    "tokenizer = BertTokenizer.from_pretrained(\"bert-base-uncased\")\n",
    "tokenized_context_length = []\n",
    "\n",
    "for context in context_list:\n",
    "    tokenized_context_length.append(len(tokenizer.tokenize(context)))\n",
    "    \n",
    "print(\"Mean tokenized context length: \", np.mean(tokenized_context_length))"
   ]
  },
  {
   "cell_type": "code",
   "execution_count": 6,
   "metadata": {},
   "outputs": [
    {
     "data": {
      "image/png": "[encoded data removed]",
      "text/plain": [
       "<Figure size 480x240 with 1 Axes>"
      ]
     },
     "metadata": {
      "filenames": {
       "image/png": "/Users/fernando/Documents/4th Year/4YP/jupyterBook/4YPbook/_build/jupyter_execute/exploring-squad2_9_0.png"
      },
      "needs_background": "light"
     },
     "output_type": "display_data"
    },
    {
     "name": "stdout",
     "output_type": "stream",
     "text": [
      "Minimum number of tokens in Context paragraph: 25\n",
      "Maximum number of tokens in Context paragraph: 853\n"
     ]
    }
   ],
   "source": [
    "from matplotlib import pyplot as plt\n",
    "from matplotlib.pyplot import figure\n",
    "figure(figsize=(6, 3), dpi=80)\n",
    "plt.hist(tokenized_context_length, bins=[10*i for i in range(87)])\n",
    "plt.title(\"Histogram distribution of number of tokens in context using pretrained BertTokenizer\")\n",
    "plt.xlabel('Number of Tokens in Context Paragraph')\n",
    "plt.ylabel('Frequency')\n",
    "\n",
    "mean_tc = np.mean(tokenized_context_length)\n",
    "min_tc = np.min(tokenized_context_length)\n",
    "max_tc = np.max(tokenized_context_length)\n",
    "\n",
    "plt.axvline(x = mean_tc, color = 'black', label = f'Mean number of tokens: {np.round(mean_tc, decimals=1)}')\n",
    "plt.legend()\n",
    "plt.show()\n",
    "\n",
    "print(\"Minimum number of tokens in Context paragraph:\", min_tc)\n",
    "print(\"Maximum number of tokens in Context paragraph:\", max_tc)"
   ]
  },
  {
   "cell_type": "code",
   "execution_count": null,
   "metadata": {},
   "outputs": [],
   "source": []
  }
 ],
 "metadata": {
  "kernelspec": {
   "display_name": "Python 3.9.12 ('base')",
   "language": "python",
   "name": "python3"
  },
  "language_info": {
   "codemirror_mode": {
    "name": "ipython",
    "version": 3
   },
   "file_extension": ".py",
   "mimetype": "text/x-python",
   "name": "python",
   "nbconvert_exporter": "python",
   "pygments_lexer": "ipython3",
   "version": "3.9.12"
  },
  "vscode": {
   "interpreter": {
    "hash": "38cca0c38332a56087b24af0bc80247f4fced29cb4f7f437d91dc159adec9c4e"
   }
  }
 },
 "nbformat": 4,
 "nbformat_minor": 2
}